{
 "cells": [
  {
   "cell_type": "markdown",
   "metadata": {},
   "source": [
    "# Homework 1: Analytics Base Table Construciton\n",
    "---\n",
    "In this homework assignment, you will begin to explore the [SWAN-SF Dataset](https://doi.org/10.7910/DVN/EBCFKM). \n",
    "\n",
    "\n",
    "Below you will find a number of steps that you will be required to complete before you can start the assignment.\n",
    "\n",
    "---"
   ]
  },
  {
   "cell_type": "markdown",
   "metadata": {},
   "source": [
    "## Step 1: Downloading the Data\n",
    "---\n",
    "\n",
    "This assignment will only be using [Partition 1](https://dataverse.harvard.edu/api/access/datafile/:persistentId?persistentId=doi:10.7910/DVN/EBCFKM/BMXYCB), but we will be using more than one by the end of the semster. In later steps, you will need to access the uncompressed files from these partitions, so remember where you put them.\n",
    "\n",
    "A paper describing the construction of the dataset can be found [here](https://doi.org/10.1038/s41597-020-0548-x).\n",
    "\n",
    "---\n",
    "\n",
    "Individual partitions of the dataset can be accessed through following links:\n",
    "- [Partition 1](https://dataverse.harvard.edu/api/access/datafile/:persistentId?persistentId=doi:10.7910/DVN/EBCFKM/BMXYCB) - 1.2GB\n",
    "- [Partition 2](https://dataverse.harvard.edu/api/access/datafile/:persistentId?persistentId=doi:10.7910/DVN/EBCFKM/TCRPUD) - 1.4GB\n",
    "- [Partition 3](https://dataverse.harvard.edu/api/access/datafile/:persistentId?persistentId=doi:10.7910/DVN/EBCFKM/PTPGQT) - 702.1 MB\n",
    "- [Partition 4](https://dataverse.harvard.edu/api/access/datafile/:persistentId?persistentId=doi:10.7910/DVN/EBCFKM/FIFLFU) - 844.4 MB\n",
    "- [Partition 5](https://dataverse.harvard.edu/api/access/datafile/:persistentId?persistentId=doi:10.7910/DVN/EBCFKM/QC2C3X) - 1.2 GB\n",
    "\n",
    "---\n",
    "\n",
    "### Dataset Attributes:\n",
    "\n",
    "Each file in the dataset contains the following attributes as a single variate of the multivariate timeseries (MVTS) sample. \n",
    "\n",
    "|              |                  |             |\n",
    "|--------------|------------------|-------------|\n",
    "| 1. Timestamp | 2. TOTUSJH       | 3. TOTBSQ   |\t\n",
    "| 4. TOTPOT\t   | 5. TOTUSJZ       | 6. ABSNJZH  |\t\n",
    "| 7. SAVNCPP   | 8. USFLUX        | 9. TOTFZ\t|\n",
    "| 10. MEANPOT  | 11. EPSZ\t      | 12. MEANSHR |\n",
    "| 13. SHRGT45  | 14. MEANGAM      | 15. MEANGBT |\n",
    "| 16. MEANGBZ  | 17. MEANGBH      | 18. MEANJZH |\n",
    "| 19. TOTFY    | 20. MEANJZD      | 21. MEANALP |\t\n",
    "| 22. TOTFX    | 23. EPSY\t      | 24. EPSX\t|\n",
    "| 25. R_VALUE  | 26. CRVAL1       | 27. CRLN_OBS|\t\n",
    "| 28. CRLT_OBS | 29. CRVAL2       | 30. HC_ANGLE|\t\n",
    "| 31. SPEI     | 32. LAT_MIN      | 33. LON_MIN |\n",
    "| 34. LAT_MAX  | 35. LON_MAX      | 36. QUALITY |\t\n",
    "| 37. BFLARE   | 38. BFLARE_LABEL |\t39. CFLARE  |\t\n",
    "| 39. CFLARE_LABEL | 40. MFLARE | 41. MFLARE_LABEL |\t\n",
    "| 42. XFLARE | 43. XFLARE_LABEL | 44. BFLARE_LOC |\t\n",
    "| 45. BFLARE_LABEL_LOC | 46. CFLARE_LOC | 47. CFLARE_LABEL_LOC |\t\n",
    "| 48. MFLARE_LOC | 49. MFLARE_LABEL_LOC | 50. FLARE_LOC |\t\n",
    "| 51. XFLARE_LABEL_LOC | 52. XR_MAX | 53. XR_QUAL |\t\n",
    "|54. IS_TMFI | | |\n",
    "\n",
    "---\n"
   ]
  },
  {
   "cell_type": "markdown",
   "metadata": {},
   "source": [
    "## Step 2: Unpacking the data\n",
    "---\n",
    "\n",
    "The partitions come in tar.gz archive files. These are easily opened on all current operating systems using the same command in the terminal.\n",
    "\n",
    "- On Windows 10: Use cmd.exe, then run: tar xf partition1_instances.tar.gz\n",
    "- On Linux: In the terminal run: tar xf partition1_instances.tar.gz\n",
    "- On Mac: In the terminal run: tar xf partition1_instances.tar.gz\n",
    "\n",
    "These all assume you are in the directory that contains the tar.gz file and that you wish to unpack in this same directory.  Search for tar commands if you wish to do something else.\n",
    "\n",
    "[Instruction Manual for Tar](https://man7.org/linux/man-pages/man1/tar.1.html)\n",
    "\n",
    "---"
   ]
  },
  {
   "cell_type": "markdown",
   "metadata": {},
   "source": [
    "## About the data\n",
    "---\n",
    "\n",
    "The __partition1__ direcotry contains two subdirectories, __FL__ and __NF__, these subdirectories represent the two classes of our target feature in the solar flare prediction problem we will be attempting to solve this semester. \n",
    "\n",
    "- __FL__: Represents the multivariate time series samples that have a Solar Flare occur within 24 hours of the observation.\n",
    "- __NF__: Represents the multivariate time series samples that do not have a Solar Flare occur within 24 hours of the observation.\n",
    "\n",
    "The multivariate time series samples are stored in .csv files for each individual sample. Each file name contains a number of pieces of information that we will wish to keep for our prediction task and therefore should be part of your Analytics Base Table. Below are examples of the naming for each sample type.\n",
    "\n",
    "- __FL__ file name example:`M1.0@265:Primary_ar115_s2010-08-06T06:36:00_e2010-08-06T18:24:00.csv`\n",
    "- __NF__ file name example:`FQ_ar99_s2010-08-01T19:00:00_e2010-08-02T06:48:00.csv` or `B1.9@909:Primary_ar325_s2011-01-04T02:36:00_e2011-01-04T14:24:00.csv`\n",
    "\n",
    "Let's look at these formats, starting with those that contain an `@` symbol (we will use the __FL__ file as an example but note that the __NF__ data also has files with this naming):\n",
    "- __M1.0@265:Primary__: This says that there occurs an M1.0 sized flare within 24 hours of our sample. It also says that this flare is numbered 265 in the accompanying integrated flare dataset that comes as a supplementary file to this dataset. Additionally, \"Primary\" indicates that the intersection with this active region was verified through the primary method described in the paper.  \n",
    "- __\\_ar115__: This indicates which active region (`_ar`) the sample comes from in the original unsampled dataset.\n",
    "- __\\_s2010-08-06T06:36:00__: This is the start time (`_st`) of the sample.\n",
    "- __\\_e2010-08-06T18:24:00__: This is the end time (`_et`) of the sample.\n",
    "\n",
    "The files that don't contain the @ symbol begin with FQ and do not have any flare occuring within 24 hours of the sample in the file.  __Note__ that both the __FL__ and __NF__ have files that have flares within 24 hours, but the __NF__ ones are smaller flares that we are considering as unimportant and therefore fall in the non-flaring class.  \n",
    "\n",
    "---\n"
   ]
  },
  {
   "cell_type": "markdown",
   "metadata": {},
   "source": [
    "## Question 1: Reading the flare and non-flare data (25 points)\n",
    "---\n",
    "\n",
    "Now that you have an understanding about the data, you will develop a function to read the flaring and non-flaring data and return an object that contains the data from the csv file and some of the information contained in the file name.\n",
    "\n",
    "Below is the object you will return.\n",
    "\n",
    "Notice that it takes in several objects: a [string](https://docs.python.org/3/library/string.html), two [datetime](https://docs.python.org/3/library/datetime.html) objects, and a [DataFrame](https://pandas.pydata.org/docs/reference/api/pandas.DataFrame.html) object.\n"
   ]
  },
  {
   "cell_type": "code",
   "execution_count": null,
   "metadata": {},
   "outputs": [],
   "source": [
    "from pandas import DataFrame\n",
    "from datetime import datetime"
   ]
  },
  {
   "cell_type": "code",
   "execution_count": null,
   "metadata": {},
   "outputs": [],
   "source": [
    "class MVTSSample:\n",
    "    \n",
    "    def __init__(self, flare_type:str, start_time:datetime, end_time:datetime, data:DataFrame):\n",
    "        self._flare_type = flare_type\n",
    "        self._start_time = start_time\n",
    "        self._end_time = end_time\n",
    "        self._data = data\n",
    "    \n",
    "    def get_flare_type(self):\n",
    "        return self._flare_type\n",
    "    \n",
    "    def get_start_time(self):\n",
    "        return self._start_time\n",
    "    \n",
    "    def get_end_time(self):\n",
    "        return self._end_time\n",
    "    \n",
    "    def get_data(self):\n",
    "        return self._data"
   ]
  },
  {
   "cell_type": "markdown",
   "metadata": {},
   "source": [
    "### About the MVTSSample class\n",
    "---\n",
    "\n",
    "The above class represents the data contained in one file. You are to return one of these objects for each call to your method(s). \n",
    "\n",
    "- The __flare_type__ is to be one of the following selections (__X__, __M__, __C__, __B__, __FQ__), and these lables will be derived from the information in the file name. The label __FQ__ should be manually created for file names starting with the character `F`.\n",
    "- __start_time__ is the start time in the file name\n",
    "- __end_time__ is the end time in the file name\n",
    "- __data__ is a `Pandas DataFrame` which you will load from the csv using the [pandas.read_csv](https://pandas.pydata.org/pandas-docs/stable/reference/api/pandas.read_csv.html) method.  \n",
    "\n",
    "---"
   ]
  },
  {
   "cell_type": "markdown",
   "metadata": {},
   "source": [
    "### About your method\n",
    "---\n",
    "\n",
    "Your method is to take in the path and name of the file to open, and it is to return one `MVTSSample` for that file.\n",
    "\n",
    "Below is a definition for that method, use it and write the code to complete the tasks necessary to return the specified information.  You can use a method call in another code block to test that your method works as required.\n",
    "\n",
    "Some useful methods/functions to use for this question are:\n",
    "\n",
    "* [String.find](https://www.w3schools.com/python/ref_string_find.asp)\n",
    "\n",
    "* [datetime.strptime](https://docs.python.org/3/library/datetime.html#strftime-strptime-behavior)\n",
    "\n",
    "* [pandas.read_csv](https://pandas.pydata.org/pandas-docs/stable/reference/api/pandas.read_csv.html) (__Note:__ the csv files are tab delimited so you will need to use `sep=\"\\t\"` to read them properly.)\n",
    "\n",
    "* [os.path.join](https://docs.python.org/3/library/os.path.html#os.path.join)"
   ]
  },
  {
   "cell_type": "code",
   "execution_count": 32,
   "metadata": {},
   "outputs": [],
   "source": [
    "import os\n",
    "import pandas as pd"
   ]
  },
  {
   "cell_type": "code",
   "execution_count": 16,
   "metadata": {},
   "outputs": [
    {
     "ename": "SyntaxError",
     "evalue": "'return' outside function (<ipython-input-16-0021b9c1dbe7>, line 26)",
     "output_type": "error",
     "traceback": [
      "\u001b[0;36m  File \u001b[0;32m\"<ipython-input-16-0021b9c1dbe7>\"\u001b[0;36m, line \u001b[0;32m26\u001b[0m\n\u001b[0;31m    return MVTSSample(flare_type, start_time, end_time, data)\u001b[0m\n\u001b[0m    ^\u001b[0m\n\u001b[0;31mSyntaxError\u001b[0m\u001b[0;31m:\u001b[0m 'return' outside function\n"
     ]
    }
   ],
   "source": [
    "class MVTSSample:\n",
    "    def read_mvts_instance(data_dir:str, file_name:str) -> MVTSSample:\n",
    "        #flare type:\n",
    "        if (file_name[0] == \"F\"):\n",
    "            flare_type = \"FQ\"\n",
    "        else:\n",
    "            flare_type = file_name[0]\n",
    "            \n",
    "        #start time:\n",
    "        s_begin = file_name.find(\"_s\")\n",
    "        s_end = file_name.find(\"_e\")\n",
    "        s_ = file_name[s_begin+2:s_end].replace(\"_\", \":\")\n",
    "        start_time = datatime.strptime(s_, \"%Y-%m-%dT%H:%M:%S\")\n",
    "        \n",
    "        # end time\n",
    "        e_begin = file_naem.find(\"_e\")\n",
    "        e_end = file_name.find(\".csv\")\n",
    "        e_ = file_name[e_begin+2:e_end].replace(\"_\", \":\")\n",
    "        end_time = datatime.strptime(e_, \"%Y-%m-%dT%H:%M:%S\")\n",
    "    \n",
    "    # data\n",
    "    \n",
    "    \n",
    "    data = pd.read_csv(file_path, sep=\"\\t\")\n",
    "    \n",
    "    return MVTSSample(flare_type, start_time, end_time, data)\n",
    "        \n",
    "    \n",
    "    \n",
    "        \n",
    "    \n",
    "\n",
    " "
   ]
  },
  {
   "cell_type": "code",
   "execution_count": 13,
   "metadata": {},
   "outputs": [
    {
     "ename": "NameError",
     "evalue": "name 'read_mvts_instance' is not defined",
     "output_type": "error",
     "traceback": [
      "\u001b[0;31m---------------------------------------------------------------------------\u001b[0m",
      "\u001b[0;31mNameError\u001b[0m                                 Traceback (most recent call last)",
      "\u001b[0;32m<ipython-input-13-3a1a9b1c3203>\u001b[0m in \u001b[0;36m<module>\u001b[0;34m\u001b[0m\n\u001b[1;32m      1\u001b[0m \u001b[0mdata_dir\u001b[0m \u001b[0;34m=\u001b[0m \u001b[0;34m\"/Users/zeek/python/parition1/\"\u001b[0m  \u001b[0;31m# change the path to where your data is stored.\u001b[0m\u001b[0;34m\u001b[0m\u001b[0;34m\u001b[0m\u001b[0m\n\u001b[1;32m      2\u001b[0m \u001b[0mfile_name\u001b[0m \u001b[0;34m=\u001b[0m \u001b[0;34m\"M1.0@265:Primary_ar115_s2010-08-06T06:36:00_e2010-08-06T18:24:00.csv\"\u001b[0m\u001b[0;34m\u001b[0m\u001b[0;34m\u001b[0m\u001b[0m\n\u001b[0;32m----> 3\u001b[0;31m \u001b[0mresults\u001b[0m \u001b[0;34m=\u001b[0m \u001b[0mread_mvts_instance\u001b[0m\u001b[0;34m(\u001b[0m\u001b[0mdata_dir\u001b[0m\u001b[0;34m,\u001b[0m \u001b[0mfile_name\u001b[0m\u001b[0;34m)\u001b[0m\u001b[0;34m\u001b[0m\u001b[0;34m\u001b[0m\u001b[0m\n\u001b[0m",
      "\u001b[0;31mNameError\u001b[0m: name 'read_mvts_instance' is not defined"
     ]
    }
   ],
   "source": [
    "data_dir = \"/Users/zeek/python/parition1/\"  # change the path to where your data is stored.\n",
    "file_name = \"M1.0@265:Primary_ar115_s2010-08-06T06:36:00_e2010-08-06T18:24:00.csv\"\n",
    "results = read_mvts_instance(data_dir, file_name)"
   ]
  },
  {
   "cell_type": "markdown",
   "metadata": {},
   "source": [
    "## Question 2: Processing the DataFrame (25 points)\n",
    "---\n",
    "\n",
    "Now that you can read individual files to get the multivariate time sries for a sample period, it is time to start building the analytics base table (ABT).\n",
    "\n",
    "The machine learning methods that we will cover this semster are generally applied to tabular data with a set of descriptive features that are used to learn to classify or predict a target feature. To accomplish this with our raw input multivariate time series, we must produce a set of descriptive features from each of the variates of the the time series.  \n",
    "\n",
    "In this quesion you will process the DataFrame that was returned from your `read_mvts_instance` method to construct a set of descriptive features for each MVTS sample. \n",
    "\n",
    "---"
   ]
  },
  {
   "cell_type": "markdown",
   "metadata": {},
   "source": [
    "---\n",
    "\n",
    "### DataFrame Attributes:\n",
    "\n",
    "Above, you saw the 54 variates of the multivariate timeseries sample in each file. These 54 columns should be present in your dataframe that was returned from your previous `read_mvts_instance` method. For the next question, however, we will only be utilizing a fraction of those. The method description below gives you more information about which ones we will use.\n",
    "\n",
    "---"
   ]
  },
  {
   "cell_type": "markdown",
   "metadata": {},
   "source": [
    "### About your method\n",
    "---\n",
    "The following will be the variates we will be processing to return features of.\n",
    "\n",
    "|              |                  |             |\n",
    "|--------------|------------------|-------------|\n",
    "| 1. R_VALUE   | 2. TOTUSJH       | 3. TOTBSQ   |\t\n",
    "| 4. TOTPOT\t   | 5. TOTUSJZ       | 6. ABSNJZH  |\t\n",
    "| 7. SAVNCPP   | 8. USFLUX        | 9. TOTFZ\t|\n",
    "| 10. MEANPOT  | 11. EPSZ\t      | 12. MEANSHR |\n",
    "| 13. SHRGT45  | 14. MEANGAM      | 15. MEANGBT |\n",
    "| 16. MEANGBZ  | 17. MEANGBH      | 18. MEANJZH |\n",
    "| 19. TOTFY    | 20. MEANJZD      | 21. MEANALP |\t\n",
    "| 22. TOTFX    |        \t      |         \t|\n",
    "\n",
    "For each of these variates you will calculate two descriptive features: \n",
    "\n",
    "- Median \n",
    "- Standard Deviation\n",
    "\n",
    "Note:\n",
    "* Computing these 2 descriptive features on the 22 variates listed above should yield a dataframe of 44 columns. Make sure your implementation of `calculate_descriptive_features` has all those columns. We will add more later, but for now, this will be sufficient to demonstrate the analytics base table construction process.\n",
    "* The column names of your new dataframe should have both the variate name and the descriptive feature name (e.g., `TOTPOT_MEDIAN`).\n",
    "\n",
    "Below is a function defintion, complete it to return the above specified information. You can use a method call in another code block to test that your method works as required.\n",
    "\n",
    "Some useful methods/functions for this question are:\n",
    "\n",
    "* [numpy.median](https://numpy.org/doc/stable/reference/generated/numpy.median.html)\n",
    "\n",
    "* [numpy.std](https://numpy.org/doc/stable/reference/generated/numpy.std.html)\n",
    "\n",
    "* [pandas.DataFrame.to_numpy](https://pandas.pydata.org/pandas-docs/stable/reference/api/pandas.DataFrame.to_numpy.html#pandas.DataFrame.to_numpy) (__Note:__ this should be used to get your selected column into a format that the numpy functions above require.)\n"
   ]
  },
  {
   "cell_type": "code",
   "execution_count": null,
   "metadata": {},
   "outputs": [],
   "source": [
    "import numpy as np"
   ]
  },
  {
   "cell_type": "code",
   "execution_count": null,
   "metadata": {},
   "outputs": [],
   "source": [
    "def calculate_descriptive_features(data:DataFrame)-> DataFrame:\n",
    "    variates_to_calc_on = [ 'R_VALUE','TOTUSJH','TOTBSQ','TOTPOT','TOTUSJZ','ABSNJZH','SAVNCPP',\n",
    "                           'USFLUX','TOTFZ','MEANPOT','EPSZ','MEANSHR','SHRGT45','MEANGAM','MEANGBT',\n",
    "                           'MEANGBZ','MEANGBH','MEANJZH','TOTFY','MEANJZD','MEANALP','TOTFX']\n",
    "    features_to_return = [ 'R_VALUE_MEDIAN','R_VALUE_STDDEV',\n",
    "                          'TOTUSJH_MEDIAN','TOTUSJH_STDDEV',\n",
    "                          'TOTBSQ_MEDIAN','TOTBSQ_STDDEV',\n",
    "                          'TOTPOT_MEDIAN','TOTPOT_STDDEV',\n",
    "                          'TOTUSJZ_MEDIAN','TOTUSJZ_STDDEV',\n",
    "                          'ABSNJZH_MEDIAN','ABSNJZH_STDDEV',\n",
    "                          'SAVNCPP_MEDIAN','SAVNCPP_STDDEV',\n",
    "                          'USFLUX_MEDIAN','USFLUX_STDDEV',\n",
    "                          'TOTFZ_MEDIAN','TOTFZ_STDDEV',\n",
    "                          'MEANPOT_MEDIAN','MEANPOT_STDDEV',\n",
    "                          'EPSZ_MEDIAN','EPSZ_STDDEV',\n",
    "                          'MEANSHR_MEDIAN','MEANSHR_STDDEV',\n",
    "                          'SHRGT45_MEDIAN','SHRGT45_STDDEV',\n",
    "                          'MEANGAM_MEDIAN','MEANGAM_STDDEV',\n",
    "                          'MEANGBT_MEDIAN','MEANGBT_STDDEV',\n",
    "                          'MEANGBZ_MEDIAN','MEANGBZ_STDDEV',\n",
    "                          'MEANGBH_MEDIAN','MEANGBH_STDDEV',\n",
    "                          'MEANJZH_MEDIAN','MEANJZH_STDDEV',\n",
    "                          'TOTFY_MEDIAN','TOTFY_STDDEV',\n",
    "                          'MEANJZD_MEDIAN','MEANJZD_STDDEV',\n",
    "                          'MEANALP_MEDIAN','MEANALP_STDDEV',\n",
    "                          'TOTFX_MEDIAN','TOTFX_STDDEV']\n",
    "    # -----------------------------\n",
    "    # COMPLETE THE CODE\n",
    "    # -----------------------------\n",
    "    pass"
   ]
  },
  {
   "cell_type": "markdown",
   "metadata": {},
   "source": [
    "---\n",
    "\n",
    "## Question 3: Putting the pieces together (25 points)\n",
    "\n",
    "---\n",
    "\n",
    "Now that you have the tools to read the data and process descriptive features, it is time to put this all together to produce an analytics base table for all of the data in Partiton 1.\n",
    "\n",
    "In this question, you shall construct a method that will process a partition by extracting features for each sample in both the __FL__ and __NF__ subdirectories of that partition. The extracted descriptive features (e.g., `TOTPOT_MEDIAN`) are to be placed into your analytics base table DataFrame as colums, with the addition of the `FLARE_TYPE` target feature.\n",
    "\n",
    "Note:\n",
    "* Your method should take in the partition location and assume that there will be __FL__ and __NF__ subdirectories to process.\n",
    "\n",
    "* Remember that your analytics base table should contain 5 flare types (`X`, `M`, `C`, `B`, and `FQ`).\n",
    "\n",
    "* Your method shall also take in the name of the analytics base table to store. This should be the full name with either an absolute or relative path to store the table also part of the passed in name. \n",
    "\n",
    "__Suggestion__: It would be a good idea to debug your function on a much smaller version of one partition (often claled a \"pet dataset\") and run it on the entire Partition 1 only when you are confident that it is error-free.\n",
    "\n",
    "Below you will find a method defintion, complete it to perform the above specified information. You can use a method call in another code block to test that your method works as required.\n"
   ]
  },
  {
   "cell_type": "code",
   "execution_count": null,
   "metadata": {},
   "outputs": [],
   "source": [
    "from os import listdir"
   ]
  },
  {
   "cell_type": "code",
   "execution_count": null,
   "metadata": {},
   "outputs": [],
   "source": [
    "Q:1.   def get_features_with_large_range(summary_table:DataFrame) -> List[str]:\n",
    "     # Complete this function to answer the question.\n",
    "    feat = []\n",
    "    for row in range(len(summary_table)):\n",
    "        if(((summary_table.iloc[row]['Max'] - summary_table.iloc[row]['Min']) > 10000) and ((summary_table.iloc[row]['Outlier Count Low'] + summary_table.iloc[row]['Outlier Count High'])/((summary_table.iloc[row]['Null Count'] + summary_table.iloc[row]['Non-null Count']))) > 0.1):\n",
    "            feat.append(summary_table.iloc[row]['Feature Name'])\n",
    "    return feat\n",
    "\n",
    "\n",
    "\n",
    "\n",
    "Q:2.  fig, (ax1, ax2, ax3) = plt.subplots(3, 1, figsize=(8, 21))\n",
    "df =  abt[features_to_look_at]\n",
    "df.hist(ax=(ax1,ax2,ax3), bins = 20)\n",
    "\n",
    "\n",
    "\n"
   ]
  },
  {
   "cell_type": "code",
   "execution_count": null,
   "metadata": {},
   "outputs": [],
   "source": [
    "data_dir = \"/data/MVTS/unzipped/partition1\"  # change the path to where your data is stored.\n",
    "abt_name = \"partition3_features.csv\"\n",
    "process_partition(data_dir, abt_name)\n",
    "\n",
    "\n",
    "\n"
   ]
  },
  {
   "cell_type": "markdown",
   "metadata": {},
   "source": [
    "Using the `pandas.DataFrame.describe` function you check a few things including the total number of samples. Use that to ensure you have processed all MVTS samples of partition 1. "
   ]
  },
  {
   "cell_type": "markdown",
   "metadata": {},
   "source": [
    "---\n",
    "\n",
    "## Question 4: Visualizing the distribution of flares (25 points)\n",
    "---\n",
    "\n",
    "How does the distribution of our 5 flare classes look like? This is the question we want to answer using a simple visualization. You can use the [pyplot.bar](https://matplotlib.org/stable/api/_as_gen/matplotlib.pyplot.bar.html) function from the [matplotlib](https://matplotlib.org/stable/index.html) library. The x-axis of the plot should represent the flare types and the y-axis should represent the counts of samples."
   ]
  },
  {
   "cell_type": "code",
   "execution_count": null,
   "metadata": {},
   "outputs": [],
   "source": [
    "import matplotlib.pyplot as plt\n",
    "%matplotlib inline\n",
    "\n",
    "def get_features_with_large_range(summary_table:DataFrame) -> List[str]:\n",
    "     # Complete this function to answer the question.\n",
    "    return [row['Feature Name'] for i, row in summary_table.iterrows() if (row['Max']-row['Min']) > 10000 \n",
    "    and ((row['Outlier Count Low'] + row['Outlier Count High']) / (row['Non-null Count'] + row['Null Count']))> 0.1]\n",
    "\n",
    "\n",
    "\n",
    "\n",
    "fig, (ax1, ax2, ax3) = plt.subplots(3, 1, figsize=(8, 21))\n",
    "hist = abt[features_to_look_at].hist(bins=20,figsize=(10, 21))\n",
    "abt_df =  abt[features_to_look_at]\n",
    "abt_df.hist(ax=ax, bins = 20)\n",
    "\n"
   ]
  }
 ],
 "metadata": {
  "kernelspec": {
   "display_name": "Python 3",
   "language": "python",
   "name": "python3"
  },
  "language_info": {
   "codemirror_mode": {
    "name": "ipython",
    "version": 3
   },
   "file_extension": ".py",
   "mimetype": "text/x-python",
   "name": "python",
   "nbconvert_exporter": "python",
   "pygments_lexer": "ipython3",
   "version": "3.8.8"
  }
 },
 "nbformat": 4,
 "nbformat_minor": 4
}
